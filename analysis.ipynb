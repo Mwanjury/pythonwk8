{
 "cells": [
  {
   "cell_type": "markdown",
   "id": "6dcbb9a2",
   "metadata": {},
   "source": [
    "Import Libraries\n"
   ]
  },
  {
   "cell_type": "code",
   "execution_count": null,
   "id": "bd5f26a2",
   "metadata": {},
   "outputs": [],
   "source": [
    "import pandas as pd\n",
    "import matplotlib.pyplot as plt\n",
    "import seaborn as sns\n",
    "from collections import Counter\n",
    "import re\n",
    "\n",
    "sns.set(style=\"whitegrid\")\n"
   ]
  },
  {
   "cell_type": "markdown",
   "id": "a87f9bf2",
   "metadata": {},
   "source": [
    "Load the sample dataset"
   ]
  },
  {
   "cell_type": "code",
   "execution_count": null,
   "id": "041c9b84",
   "metadata": {},
   "outputs": [],
   "source": [
    "# Load only the smaller dataset\n",
    "df = pd.read_csv(\"metadata_sample.csv\")\n",
    "\n",
    "# Quick check\n",
    "print(\"Shape:\", df.shape)\n",
    "df.head()\n"
   ]
  },
  {
   "cell_type": "markdown",
   "id": "590c17d7",
   "metadata": {},
   "source": [
    "Basic exploration"
   ]
  },
  {
   "cell_type": "code",
   "execution_count": null,
   "id": "c6386bae",
   "metadata": {},
   "outputs": [],
   "source": [
    "# Data info\n",
    "print(df.info())\n",
    "\n",
    "# Missing values\n",
    "print(df.isnull().sum().head(15))\n",
    "\n",
    "# Summary statistics\n",
    "df.describe()\n"
   ]
  },
  {
   "cell_type": "markdown",
   "id": "e2b90ea5",
   "metadata": {},
   "source": [
    "Data cleaning"
   ]
  },
  {
   "cell_type": "code",
   "execution_count": null,
   "id": "ebc3d1a3",
   "metadata": {},
   "outputs": [],
   "source": [
    "# Drop rows missing important fields\n",
    "df = df.dropna(subset=['title', 'publish_time'])\n",
    "\n",
    "# Convert publish_time to datetime\n",
    "df['publish_time'] = pd.to_datetime(df['publish_time'], errors='coerce')\n",
    "\n",
    "# Extract year\n",
    "df['year'] = df['publish_time'].dt.year\n",
    "\n",
    "# Add abstract word count\n",
    "df['abstract_word_count'] = df['abstract'].fillna(\"\").apply(lambda x: len(x.split()))\n",
    "\n",
    "df[['title', 'year', 'abstract_word_count']].head()\n"
   ]
  },
  {
   "cell_type": "markdown",
   "id": "3611056f",
   "metadata": {},
   "source": [
    "Publications by year"
   ]
  },
  {
   "cell_type": "code",
   "execution_count": null,
   "id": "2f6218c1",
   "metadata": {},
   "outputs": [],
   "source": [
    "year_counts = df['year'].value_counts().sort_index()\n",
    "\n",
    "plt.figure(figsize=(8,5))\n",
    "sns.barplot(x=year_counts.index, y=year_counts.values, color=\"skyblue\")\n",
    "plt.title(\"Publications by Year\")\n",
    "plt.xlabel(\"Year\")\n",
    "plt.ylabel(\"Number of Publications\")\n",
    "plt.xticks(rotation=45)\n",
    "plt.show()\n"
   ]
  },
  {
   "cell_type": "markdown",
   "id": "a8aa08d5",
   "metadata": {},
   "source": [
    "Top journals"
   ]
  },
  {
   "cell_type": "code",
   "execution_count": null,
   "id": "0114d12a",
   "metadata": {},
   "outputs": [],
   "source": [
    "top_journals = df['journal'].value_counts().head(10)\n",
    "\n",
    "plt.figure(figsize=(8,5))\n",
    "sns.barplot(y=top_journals.index, x=top_journals.values, color=\"orange\")\n",
    "plt.title(\"Top Journals Publishing COVID-19 Papers\")\n",
    "plt.xlabel(\"Number of Publications\")\n",
    "plt.ylabel(\"Journal\")\n",
    "plt.show()\n"
   ]
  },
  {
   "cell_type": "markdown",
   "id": "06a94d9e",
   "metadata": {},
   "source": [
    "Word frequency in titles"
   ]
  },
  {
   "cell_type": "code",
   "execution_count": null,
   "id": "0c6398da",
   "metadata": {},
   "outputs": [],
   "source": [
    "# Join all titles\n",
    "words = \" \".join(df['title'].dropna()).lower()\n",
    "\n",
    "# Extract words\n",
    "words = re.findall(r'\\w+', words)\n",
    "\n",
    "# Count most common\n",
    "common_words = Counter(words).most_common(15)\n",
    "common_words\n"
   ]
  },
  {
   "cell_type": "markdown",
   "id": "848f9015",
   "metadata": {},
   "source": [
    "Publications by source"
   ]
  },
  {
   "cell_type": "code",
   "execution_count": null,
   "id": "e75e75f4",
   "metadata": {},
   "outputs": [],
   "source": [
    "source_counts = df['source_x'].value_counts().head(10)\n",
    "\n",
    "plt.figure(figsize=(8,5))\n",
    "sns.barplot(y=source_counts.index, x=source_counts.values, color=\"green\")\n",
    "plt.title(\"Top Sources of Publications\")\n",
    "plt.xlabel(\"Number of Publications\")\n",
    "plt.ylabel(\"Source\")\n",
    "plt.show()\n"
   ]
  },
  {
   "cell_type": "markdown",
   "id": "a5747e8d",
   "metadata": {},
   "source": [
    "Save cleaned dataset"
   ]
  },
  {
   "cell_type": "code",
   "execution_count": null,
   "id": "d89df850",
   "metadata": {},
   "outputs": [],
   "source": [
    "# Save cleaned dataset for Streamlit app\n",
    "df.to_csv(\"metadata_cleaned.csv\", index=False)\n",
    "print(\"Saved as metadata_cleaned.csv\")\n"
   ]
  }
 ],
 "metadata": {
  "language_info": {
   "name": "python"
  }
 },
 "nbformat": 4,
 "nbformat_minor": 5
}
